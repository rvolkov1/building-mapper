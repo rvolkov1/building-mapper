{
 "cells": [
  {
   "cell_type": "code",
   "execution_count": null,
   "id": "6d093eaf",
   "metadata": {},
   "outputs": [
    {
     "ename": "NameError",
     "evalue": "name '__file__' is not defined",
     "output_type": "error",
     "traceback": [
      "\u001b[31m---------------------------------------------------------------------------\u001b[39m",
      "\u001b[31mNameError\u001b[39m                                 Traceback (most recent call last)",
      "\u001b[36mCell\u001b[39m\u001b[36m \u001b[39m\u001b[32mIn[4]\u001b[39m\u001b[32m, line 3\u001b[39m\n\u001b[32m      1\u001b[39m \u001b[38;5;28;01mimport\u001b[39;00m\u001b[38;5;250m \u001b[39m\u001b[34;01msys\u001b[39;00m\n\u001b[32m      2\u001b[39m \u001b[38;5;28;01mimport\u001b[39;00m\u001b[38;5;250m \u001b[39m\u001b[34;01mos\u001b[39;00m\n\u001b[32m----> \u001b[39m\u001b[32m3\u001b[39m sys.path.append(os.path.abspath(os.path.join(os.path.dirname(\u001b[34;43m__file__\u001b[39;49m), \u001b[33m'\u001b[39m\u001b[33m..\u001b[39m\u001b[33m'\u001b[39m)))\n\u001b[32m      5\u001b[39m \u001b[38;5;28;01mfrom\u001b[39;00m\u001b[38;5;250m \u001b[39m\u001b[34;01mmast3r\u001b[39;00m\u001b[34;01m.\u001b[39;00m\u001b[34;01mmast3r\u001b[39;00m\u001b[34;01m.\u001b[39;00m\u001b[34;01mmodel\u001b[39;00m\u001b[38;5;250m \u001b[39m\u001b[38;5;28;01mimport\u001b[39;00m AsymmetricMASt3R\n\u001b[32m      6\u001b[39m \u001b[38;5;28;01mfrom\u001b[39;00m\u001b[38;5;250m \u001b[39m\u001b[34;01mmast3r\u001b[39;00m\u001b[34;01m.\u001b[39;00m\u001b[34;01mmast3r\u001b[39;00m\u001b[34;01m.\u001b[39;00m\u001b[34;01mfast_nn\u001b[39;00m\u001b[38;5;250m \u001b[39m\u001b[38;5;28;01mimport\u001b[39;00m fast_reciprocal_NNs\n",
      "\u001b[31mNameError\u001b[39m: name '__file__' is not defined"
     ]
    }
   ],
   "source": [
    "import sys\n",
    "import os\n",
    "\n",
    "from mast3r.mast3r.model import AsymmetricMASt3R\n",
    "from mast3r.mast3r.fast_nn import fast_reciprocal_NNs\n",
    "\n",
    "#import mast3r.utils.path_to_dust3r\n",
    "from mast3r.dust3r.inference import inference\n",
    "from mast3r.dust3r.utils.image import load_images\n",
    "\n",
    "device = 'cpu'\n",
    "schedule = 'cosine'\n",
    "lr = 0.01\n",
    "niter = 300\n",
    "\n",
    "#model_name = \"naver/MASt3R_ViTLarge_BaseDecoder_512_catmlpdpt_metric\"\n",
    "model_name = \"checkpoints/MASt3R_ViTLarge_BaseDecoder_512_catmlpdpt_metric.pth\"\n",
    "\n",
    "# you can put the path to a local checkpoint in model_name if needed\n",
    "model = AsymmetricMASt3R.from_pretrained(model_name).to(device)"
   ]
  },
  {
   "cell_type": "code",
   "execution_count": null,
   "id": "5f0b6a8d",
   "metadata": {},
   "outputs": [
    {
     "name": "stdout",
     "output_type": "stream",
     "text": [
      ">> Loading a list of 2 images\n",
      " - adding /Users/rvolkov/Documents/uni/5561/building-mapper/zind_subset/0528/2d_views/room 03/corres_0/view_0.jpg with resolution 512x512 --> 512x384\n",
      " - adding /Users/rvolkov/Documents/uni/5561/building-mapper/zind_subset/0528/2d_views/room 03/corres_0/view_1.jpg with resolution 512x512 --> 512x384\n",
      " (Found 2 images)\n"
     ]
    }
   ],
   "source": [
    "#path = \"/Users/rvolkov/Documents/uni/5561/building-mapper/zind_subset/0528/2d_views/room 01/corres_0\"\n",
    "path = \"/Users/rvolkov/Documents/uni/5561/building-mapper/zind_subset/0528/2d_views/room 03/corres_0\"\n",
    "images = load_images([path + \"/view_0.jpg\", path + \"/view_1.jpg\"], size=512)\n",
    "output = inference([tuple(images)], model, device, batch_size=1, verbose=False)\n",
    "\n",
    "# at this stage, you have the raw dust3r predictions\n",
    "view1, pred1 = output['view1'], output['pred1']\n",
    "view2, pred2 = output['view2'], output['pred2']\n",
    "\n",
    "desc1, desc2 = pred1['desc'].squeeze(0).detach(), pred2['desc'].squeeze(0).detach()\n",
    "\n",
    "# find 2D-2D matches between the two images\n",
    "matches_im0, matches_im1 = fast_reciprocal_NNs(desc1, desc2, subsample_or_initxy1=8,\n",
    "                                                device=device, dist='dot', block_size=2**13)\n",
    "\n",
    "# ignore small border around the edge\n",
    "H0, W0 = view1['true_shape'][0]\n",
    "valid_matches_im0 = (matches_im0[:, 0] >= 3) & (matches_im0[:, 0] < int(W0) - 3) & (\n",
    "    matches_im0[:, 1] >= 3) & (matches_im0[:, 1] < int(H0) - 3)\n",
    "\n",
    "H1, W1 = view2['true_shape'][0]\n",
    "valid_matches_im1 = (matches_im1[:, 0] >= 3) & (matches_im1[:, 0] < int(W1) - 3) & (\n",
    "    matches_im1[:, 1] >= 3) & (matches_im1[:, 1] < int(H1) - 3)\n",
    "\n",
    "valid_matches = valid_matches_im0 & valid_matches_im1\n",
    "matches_im0, matches_im1 = matches_im0[valid_matches], matches_im1[valid_matches]\n",
    "\n",
    "# visualize a few matches\n",
    "import numpy as np\n",
    "import torch\n",
    "import torchvision.transforms.functional\n",
    "from matplotlib import pyplot as pl\n",
    "\n",
    "n_viz = 20\n",
    "num_matches = matches_im0.shape[0]\n",
    "match_idx_to_viz = np.round(np.linspace(0, num_matches - 1, n_viz)).astype(int)\n",
    "viz_matches_im0, viz_matches_im1 = matches_im0[match_idx_to_viz], matches_im1[match_idx_to_viz]\n",
    "\n",
    "image_mean = torch.as_tensor([0.5, 0.5, 0.5], device='cpu').reshape(1, 3, 1, 1)\n",
    "image_std = torch.as_tensor([0.5, 0.5, 0.5], device='cpu').reshape(1, 3, 1, 1)\n",
    "\n",
    "viz_imgs = []\n",
    "for i, view in enumerate([view1, view2]):\n",
    "    rgb_tensor = view['img'] * image_std + image_mean\n",
    "    viz_imgs.append(rgb_tensor.squeeze(0).permute(1, 2, 0).cpu().numpy())\n",
    "\n",
    "H0, W0, H1, W1 = *viz_imgs[0].shape[:2], *viz_imgs[1].shape[:2]\n",
    "img0 = np.pad(viz_imgs[0], ((0, max(H1 - H0, 0)), (0, 0), (0, 0)), 'constant', constant_values=0)\n",
    "img1 = np.pad(viz_imgs[1], ((0, max(H0 - H1, 0)), (0, 0), (0, 0)), 'constant', constant_values=0)\n",
    "img = np.concatenate((img0, img1), axis=1)\n",
    "pl.figure()\n",
    "pl.imshow(img)\n",
    "cmap = pl.get_cmap('jet')\n",
    "for i in range(n_viz):\n",
    "    (x0, y0), (x1, y1) = viz_matches_im0[i].T, viz_matches_im1[i].T\n",
    "    pl.plot([x0, x1 + W0], [y0, y1], '-+', color=cmap(i / (n_viz - 1)), scalex=False, scaley=False)\n",
    "pl.show(block=True)\n"
   ]
  },
  {
   "cell_type": "code",
   "execution_count": null,
   "id": "1609d0c6",
   "metadata": {},
   "outputs": [],
   "source": []
  }
 ],
 "metadata": {
  "kernelspec": {
   "display_name": "mast3r",
   "language": "python",
   "name": "python3"
  },
  "language_info": {
   "codemirror_mode": {
    "name": "ipython",
    "version": 3
   },
   "file_extension": ".py",
   "mimetype": "text/x-python",
   "name": "python",
   "nbconvert_exporter": "python",
   "pygments_lexer": "ipython3",
   "version": "3.11.12"
  }
 },
 "nbformat": 4,
 "nbformat_minor": 5
}
